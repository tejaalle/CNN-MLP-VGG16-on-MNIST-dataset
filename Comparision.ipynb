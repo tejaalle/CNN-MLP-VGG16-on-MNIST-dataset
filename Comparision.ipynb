{
  "nbformat": 4,
  "nbformat_minor": 0,
  "metadata": {
    "colab": {
      "name": "MLA4.ipynb",
      "provenance": [],
      "collapsed_sections": []
    },
    "kernelspec": {
      "name": "python3",
      "display_name": "Python 3"
    },
    "accelerator": "GPU"
  },
  "cells": [
    {
      "cell_type": "code",
      "metadata": {
        "id": "ZAlhXrmVQztz",
        "outputId": "84014fba-fb10-441e-f30e-9e5897208848",
        "colab": {
          "base_uri": "https://localhost:8080/",
          "height": 35
        }
      },
      "source": [
        "from google.colab import drive\n",
        "drive.mount('/content/drive/')"
      ],
      "execution_count": 9,
      "outputs": [
        {
          "output_type": "stream",
          "text": [
            "Mounted at /content/drive/\n"
          ],
          "name": "stdout"
        }
      ]
    },
    {
      "cell_type": "code",
      "metadata": {
        "id": "8uofXlXSaErA",
        "outputId": "a7267d80-3127-42ad-e4ed-f8ed321a6e4a",
        "colab": {
          "base_uri": "https://localhost:8080/",
          "height": 572
        }
      },
      "source": [
        "from keras import datasets, utils, layers, models, optimizers\n",
        "import numpy as np\n",
        "(xtrain, ytrain), (xtest, ytest) = datasets.mnist.load_data()\n",
        "xtrain = xtrain.reshape(60000, 784) / 255\n",
        "xtraindata = xtrain[0:1024]\n",
        "print(xtraindata.shape)\n",
        "# print(ytraindata.shape)\n",
        "xtest = xtest.reshape(10000, 784) / 255\n",
        "xtestdata = xtest[0:100]\n",
        "ytrain = utils.to_categorical(ytrain, 10)\n",
        "ytraindata = ytrain[0:1024]\n",
        "ytest = utils.to_categorical(ytest, 10)\n",
        "ytestdata = ytest[0:100]\n",
        "print(ytrain)\n",
        "inputs = layers.Input(shape=(784,))\n",
        "x = layers.Dense(512, activation='relu')(inputs)\n",
        "x = layers.Dense(256, activation='relu')(x)\n",
        "x = layers.Dense(128, activation='relu')(x)\n",
        "x = layers.Dense(64, activation='relu')(x)\n",
        "x = layers.Dense(32, activation='relu')(x)\n",
        "outputs = layers.Dense(10, activation='softmax')(x)\n",
        "model = models.Model(inputs=inputs, outputs=outputs)\n",
        "model.compile(loss='categorical_crossentropy', optimizer = 'nadam', metrics =['accuracy'])\n",
        "history = model.fit( xtraindata , ytraindata , batch_size = 32, epochs =10, validation_data =( xtestdata , ytestdata ))\n",
        "score = model.evaluate ( xtestdata , ytestdata )\n",
        "print ( 'Test loss : ' , score [0] , 'Test accuracy : ' , score [1])"
      ],
      "execution_count": null,
      "outputs": [
        {
          "output_type": "stream",
          "text": [
            "Downloading data from https://storage.googleapis.com/tensorflow/tf-keras-datasets/mnist.npz\n",
            "11493376/11490434 [==============================] - 0s 0us/step\n",
            "(1024, 784)\n",
            "[[0. 0. 0. ... 0. 0. 0.]\n",
            " [1. 0. 0. ... 0. 0. 0.]\n",
            " [0. 0. 0. ... 0. 0. 0.]\n",
            " ...\n",
            " [0. 0. 0. ... 0. 0. 0.]\n",
            " [0. 0. 0. ... 0. 0. 0.]\n",
            " [0. 0. 0. ... 0. 1. 0.]]\n",
            "Epoch 1/10\n",
            "32/32 [==============================] - 0s 10ms/step - loss: 1.4788 - accuracy: 0.5381 - val_loss: 1.0134 - val_accuracy: 0.6400\n",
            "Epoch 2/10\n",
            "32/32 [==============================] - 0s 4ms/step - loss: 0.5081 - accuracy: 0.8516 - val_loss: 0.5761 - val_accuracy: 0.7900\n",
            "Epoch 3/10\n",
            "32/32 [==============================] - 0s 4ms/step - loss: 0.2821 - accuracy: 0.9170 - val_loss: 0.4230 - val_accuracy: 0.8500\n",
            "Epoch 4/10\n",
            "32/32 [==============================] - 0s 5ms/step - loss: 0.1465 - accuracy: 0.9531 - val_loss: 0.2843 - val_accuracy: 0.9200\n",
            "Epoch 5/10\n",
            "32/32 [==============================] - 0s 4ms/step - loss: 0.0815 - accuracy: 0.9756 - val_loss: 0.2543 - val_accuracy: 0.9300\n",
            "Epoch 6/10\n",
            "32/32 [==============================] - 0s 4ms/step - loss: 0.0425 - accuracy: 0.9893 - val_loss: 0.2361 - val_accuracy: 0.9200\n",
            "Epoch 7/10\n",
            "32/32 [==============================] - 0s 4ms/step - loss: 0.0213 - accuracy: 0.9980 - val_loss: 0.2485 - val_accuracy: 0.9300\n",
            "Epoch 8/10\n",
            "32/32 [==============================] - 0s 4ms/step - loss: 0.0061 - accuracy: 1.0000 - val_loss: 0.2480 - val_accuracy: 0.9200\n",
            "Epoch 9/10\n",
            "32/32 [==============================] - 0s 4ms/step - loss: 0.0028 - accuracy: 1.0000 - val_loss: 0.2312 - val_accuracy: 0.9500\n",
            "Epoch 10/10\n",
            "32/32 [==============================] - 0s 5ms/step - loss: 0.0018 - accuracy: 1.0000 - val_loss: 0.2374 - val_accuracy: 0.9400\n",
            "4/4 [==============================] - 0s 2ms/step - loss: 0.2374 - accuracy: 0.9400\n",
            "Test loss :  0.23737698793411255 Test accuracy :  0.9399999976158142\n"
          ],
          "name": "stdout"
        }
      ]
    },
    {
      "cell_type": "code",
      "metadata": {
        "id": "yXvwVVsEc1Xp",
        "outputId": "5946f041-7017-4c28-aa40-bbbaa821e1d8",
        "colab": {
          "base_uri": "https://localhost:8080/",
          "height": 314
        }
      },
      "source": [
        "import matplotlib.pyplot as plt\n",
        "print(history.history.keys())\n",
        "print(history.epoch)\n",
        "plt.plot(history.epoch, history.history['accuracy'], 'g')\n",
        "plt.plot(history.epoch,history.history['val_accuracy'])\n",
        "plt.ylabel('accuracy')\n",
        "plt.xlabel('epoch')\n",
        "plt . legend (['train' , 'test'] , loc= 'lower right')\n",
        "plt.show()"
      ],
      "execution_count": null,
      "outputs": [
        {
          "output_type": "stream",
          "text": [
            "dict_keys(['loss', 'accuracy', 'val_loss', 'val_accuracy'])\n",
            "[0, 1, 2, 3, 4, 5, 6, 7, 8, 9]\n"
          ],
          "name": "stdout"
        },
        {
          "output_type": "display_data",
          "data": {
            "image/png": "[encoded data removed]",
            "text/plain": [
              "<Figure size 432x288 with 1 Axes>"
            ]
          },
          "metadata": {
            "tags": [],
            "needs_background": "light"
          }
        }
      ]
    },
    {
      "cell_type": "code",
      "metadata": {
        "id": "CzySLLtIP7-P"
      },
      "source": [
        "import keras\n",
        "import numpy as np\n",
        "import matplotlib.pyplot as plt\n",
        "from keras.datasets import mnist\n",
        "from keras import models,layers , optimizers , datasets , utils\n",
        "from keras.layers import Dense, Dropout, Activation, Flatten\n",
        "from keras.layers import Conv2D, MaxPooling2D"
      ],
      "execution_count": 3,
      "outputs": []
    },
    {
      "cell_type": "code",
      "metadata": {
        "id": "zIolAug3P_i8"
      },
      "source": [
        "(x_train, y_train), (x_test, y_test) = mnist.load_data()\n",
        "x_train = x_train[:1024]\n",
        "y_train= y_train[:1024]\n",
        "x_test = x_test[:100]\n",
        "y_test = y_test[:100]\n",
        "x_train=x_train.reshape(1024,28,28,1)/255\n",
        "x_test= x_test.reshape(100,28,28,1)/255\n",
        "y_train=utils.to_categorical(y_train,10)\n",
        "y_test=utils.to_categorical(y_test,10)"
      ],
      "execution_count": 4,
      "outputs": []
    },
    {
      "cell_type": "code",
      "metadata": {
        "id": "9ZEUpFooQG5P"
      },
      "source": [
        "inputs = layers.Input(shape=(28,28,1,))\n",
        "cnn = Conv2D(32 , kernel_size=(3,3) , activation='relu',padding='valid',input_shape=(28,28,1))(inputs)\n",
        "cnn = Conv2D(64 , kernel_size=(3,3) , activation='relu')(cnn)\n",
        "cnn = MaxPooling2D(pool_size=(2,2))(cnn)\n",
        "cnn = Dropout(0.25)(cnn)\n",
        "cnn = Flatten()(cnn)\n",
        "cnn= Dense(132,activation='relu')(cnn)\n",
        "cnn = Dropout(0.5)(cnn)\n",
        "# cnn= Dense(256,activation='relu')(cnn)\n",
        "# cnn =Dropout(0.5)(cnn)\n",
        "outputs = Dense(10,activation='softmax')(cnn)\n",
        "model =models.Model ( inputs = inputs ,outputs = outputs )"
      ],
      "execution_count": 5,
      "outputs": []
    },
    {
      "cell_type": "code",
      "metadata": {
        "id": "Pq1_lUL0QJq9",
        "outputId": "c7890756-07e4-4610-9f17-1ab363f8370b",
        "colab": {
          "base_uri": "https://localhost:8080/",
          "height": 503
        }
      },
      "source": [
        "model.compile(loss='categorical_crossentropy',optimizer='nadam',metrics=['accuracy'])\n",
        "history =model.fit(x_train,y_train,batch_size=32,epochs=12,verbose=1,validation_data=(x_test, y_test))\n",
        "accuracy = model.evaluate(x_test,y_test,verbose=1,batch_size=32)\n",
        "accuracy1 = model.evaluate(x_train,y_train,verbose=1,batch_size=32)\n",
        "print(\"Loss\",accuracy[0],\"Accuracy\",accuracy[1])\n",
        "print(\"Loss\",accuracy1[0],\"Accuracy\",accuracy1[1])"
      ],
      "execution_count": 6,
      "outputs": [
        {
          "output_type": "stream",
          "text": [
            "Epoch 1/12\n",
            "32/32 [==============================] - 0s 11ms/step - loss: 1.3923 - accuracy: 0.5312 - val_loss: 0.6365 - val_accuracy: 0.7600\n",
            "Epoch 2/12\n",
            "32/32 [==============================] - 0s 6ms/step - loss: 0.6137 - accuracy: 0.8105 - val_loss: 0.3715 - val_accuracy: 0.8700\n",
            "Epoch 3/12\n",
            "32/32 [==============================] - 0s 5ms/step - loss: 0.3898 - accuracy: 0.8857 - val_loss: 0.2484 - val_accuracy: 0.9300\n",
            "Epoch 4/12\n",
            "32/32 [==============================] - 0s 5ms/step - loss: 0.2546 - accuracy: 0.9199 - val_loss: 0.1435 - val_accuracy: 0.9600\n",
            "Epoch 5/12\n",
            "32/32 [==============================] - 0s 5ms/step - loss: 0.2001 - accuracy: 0.9346 - val_loss: 0.1225 - val_accuracy: 0.9700\n",
            "Epoch 6/12\n",
            "32/32 [==============================] - 0s 5ms/step - loss: 0.1363 - accuracy: 0.9570 - val_loss: 0.1035 - val_accuracy: 0.9700\n",
            "Epoch 7/12\n",
            "32/32 [==============================] - 0s 5ms/step - loss: 0.1108 - accuracy: 0.9668 - val_loss: 0.0826 - val_accuracy: 0.9700\n",
            "Epoch 8/12\n",
            "32/32 [==============================] - 0s 5ms/step - loss: 0.1216 - accuracy: 0.9639 - val_loss: 0.0986 - val_accuracy: 0.9700\n",
            "Epoch 9/12\n",
            "32/32 [==============================] - 0s 5ms/step - loss: 0.0846 - accuracy: 0.9795 - val_loss: 0.0824 - val_accuracy: 0.9600\n",
            "Epoch 10/12\n",
            "32/32 [==============================] - 0s 5ms/step - loss: 0.0636 - accuracy: 0.9854 - val_loss: 0.0754 - val_accuracy: 0.9600\n",
            "Epoch 11/12\n",
            "32/32 [==============================] - 0s 5ms/step - loss: 0.0495 - accuracy: 0.9795 - val_loss: 0.0594 - val_accuracy: 0.9700\n",
            "Epoch 12/12\n",
            "32/32 [==============================] - 0s 5ms/step - loss: 0.0452 - accuracy: 0.9834 - val_loss: 0.0325 - val_accuracy: 0.9900\n",
            "4/4 [==============================] - 0s 3ms/step - loss: 0.0325 - accuracy: 0.9900\n",
            "32/32 [==============================] - 0s 2ms/step - loss: 0.0049 - accuracy: 1.0000\n",
            "Loss 0.03250034898519516 Accuracy 0.9900000095367432\n",
            "Loss 0.004862569738179445 Accuracy 1.0\n"
          ],
          "name": "stdout"
        }
      ]
    },
    {
      "cell_type": "code",
      "metadata": {
        "id": "NIHQs3g6QSJU",
        "outputId": "1b9597ed-32f0-4046-f770-a62185c2b18f",
        "colab": {
          "base_uri": "https://localhost:8080/",
          "height": 297
        }
      },
      "source": [
        "plt.plot(history.epoch,history.history[\"accuracy\"],'g',label=\"train\")\n",
        "plt.plot(history.epoch,history.history[\"val_accuracy\"],label=\"test\")\n",
        "plt.legend()\n",
        "plt.xlabel(\"epoch\")\n",
        "plt.ylabel(\"accuracy\")"
      ],
      "execution_count": 7,
      "outputs": [
        {
          "output_type": "execute_result",
          "data": {
            "text/plain": [
              "Text(0, 0.5, 'accuracy')"
            ]
          },
          "metadata": {
            "tags": []
          },
          "execution_count": 7
        },
        {
          "output_type": "display_data",
          "data": {
            "image/png": "[encoded data removed]",
            "text/plain": [
              "<Figure size 432x288 with 1 Axes>"
            ]
          },
          "metadata": {
            "tags": [],
            "needs_background": "light"
          }
        }
      ]
    },
    {
      "cell_type": "code",
      "metadata": {
        "id": "p8RwmqHgQlxp"
      },
      "source": [
        "import keras\n",
        "IMG_WIDTH = 48\n",
        "IMG_HEIGHT = 48\n",
        "IMG_DEPTH = 3\n",
        "vgg16 = keras.applications.vgg16.VGG16(weights='imagenet', include_top=True)\n",
        " "
      ],
      "execution_count": 10,
      "outputs": []
    },
    {
      "cell_type": "code",
      "metadata": {
        "id": "6EUMlCMnRFa8",
        "outputId": "25156592-0cf9-4404-b47e-b9b467f56874",
        "colab": {
          "base_uri": "https://localhost:8080/",
          "height": 953
        }
      },
      "source": [
        "vgg16.summary()"
      ],
      "execution_count": 11,
      "outputs": [
        {
          "output_type": "stream",
          "text": [
            "Model: \"vgg16\"\n",
            "_________________________________________________________________\n",
            "Layer (type)                 Output Shape              Param #   \n",
            "=================================================================\n",
            "input_4 (InputLayer)         [(None, 224, 224, 3)]     0         \n",
            "_________________________________________________________________\n",
            "block1_conv1 (Conv2D)        (None, 224, 224, 64)      1792      \n",
            "_________________________________________________________________\n",
            "block1_conv2 (Conv2D)        (None, 224, 224, 64)      36928     \n",
            "_________________________________________________________________\n",
            "block1_pool (MaxPooling2D)   (None, 112, 112, 64)      0         \n",
            "_________________________________________________________________\n",
            "block2_conv1 (Conv2D)        (None, 112, 112, 128)     73856     \n",
            "_________________________________________________________________\n",
            "block2_conv2 (Conv2D)        (None, 112, 112, 128)     147584    \n",
            "_________________________________________________________________\n",
            "block2_pool (MaxPooling2D)   (None, 56, 56, 128)       0         \n",
            "_________________________________________________________________\n",
            "block3_conv1 (Conv2D)        (None, 56, 56, 256)       295168    \n",
            "_________________________________________________________________\n",
            "block3_conv2 (Conv2D)        (None, 56, 56, 256)       590080    \n",
            "_________________________________________________________________\n",
            "block3_conv3 (Conv2D)        (None, 56, 56, 256)       590080    \n",
            "_________________________________________________________________\n",
            "block3_pool (MaxPooling2D)   (None, 28, 28, 256)       0         \n",
            "_________________________________________________________________\n",
            "block4_conv1 (Conv2D)        (None, 28, 28, 512)       1180160   \n",
            "_________________________________________________________________\n",
            "block4_conv2 (Conv2D)        (None, 28, 28, 512)       2359808   \n",
            "_________________________________________________________________\n",
            "block4_conv3 (Conv2D)        (None, 28, 28, 512)       2359808   \n",
            "_________________________________________________________________\n",
            "block4_pool (MaxPooling2D)   (None, 14, 14, 512)       0         \n",
            "_________________________________________________________________\n",
            "block5_conv1 (Conv2D)        (None, 14, 14, 512)       2359808   \n",
            "_________________________________________________________________\n",
            "block5_conv2 (Conv2D)        (None, 14, 14, 512)       2359808   \n",
            "_________________________________________________________________\n",
            "block5_conv3 (Conv2D)        (None, 14, 14, 512)       2359808   \n",
            "_________________________________________________________________\n",
            "block5_pool (MaxPooling2D)   (None, 7, 7, 512)         0         \n",
            "_________________________________________________________________\n",
            "flatten (Flatten)            (None, 25088)             0         \n",
            "_________________________________________________________________\n",
            "fc1 (Dense)                  (None, 4096)              102764544 \n",
            "_________________________________________________________________\n",
            "fc2 (Dense)                  (None, 4096)              16781312  \n",
            "_________________________________________________________________\n",
            "predictions (Dense)          (None, 1000)              4097000   \n",
            "=================================================================\n",
            "Total params: 138,357,544\n",
            "Trainable params: 138,357,544\n",
            "Non-trainable params: 0\n",
            "_________________________________________________________________\n"
          ],
          "name": "stdout"
        }
      ]
    },
    {
      "cell_type": "code",
      "metadata": {
        "id": "PQBygvRARJul",
        "outputId": "7750d2f3-7c85-4948-8199-d7ee6927e678",
        "colab": {
          "base_uri": "https://localhost:8080/",
          "height": 919
        }
      },
      "source": [
        "# Remove the last dense layer which has size=1000(prediction layer). \n",
        "# Freeze all layers except the dense layers for training.\n",
        "# Add a last dense layer for 10 predictions\n",
        "model = keras.models.Sequential()\n",
        "for layer in vgg16.layers[:-1]:\n",
        "  model.add(layer)\n",
        "model.add(keras.layers.Dense(10, activation='softmax'))\n",
        "for layer in model.layers[:-3]:\n",
        "  layer.trainable = False\n",
        "model.summary()"
      ],
      "execution_count": 12,
      "outputs": [
        {
          "output_type": "stream",
          "text": [
            "Model: \"sequential\"\n",
            "_________________________________________________________________\n",
            "Layer (type)                 Output Shape              Param #   \n",
            "=================================================================\n",
            "block1_conv1 (Conv2D)        (None, 224, 224, 64)      1792      \n",
            "_________________________________________________________________\n",
            "block1_conv2 (Conv2D)        (None, 224, 224, 64)      36928     \n",
            "_________________________________________________________________\n",
            "block1_pool (MaxPooling2D)   (None, 112, 112, 64)      0         \n",
            "_________________________________________________________________\n",
            "block2_conv1 (Conv2D)        (None, 112, 112, 128)     73856     \n",
            "_________________________________________________________________\n",
            "block2_conv2 (Conv2D)        (None, 112, 112, 128)     147584    \n",
            "_________________________________________________________________\n",
            "block2_pool (MaxPooling2D)   (None, 56, 56, 128)       0         \n",
            "_________________________________________________________________\n",
            "block3_conv1 (Conv2D)        (None, 56, 56, 256)       295168    \n",
            "_________________________________________________________________\n",
            "block3_conv2 (Conv2D)        (None, 56, 56, 256)       590080    \n",
            "_________________________________________________________________\n",
            "block3_conv3 (Conv2D)        (None, 56, 56, 256)       590080    \n",
            "_________________________________________________________________\n",
            "block3_pool (MaxPooling2D)   (None, 28, 28, 256)       0         \n",
            "_________________________________________________________________\n",
            "block4_conv1 (Conv2D)        (None, 28, 28, 512)       1180160   \n",
            "_________________________________________________________________\n",
            "block4_conv2 (Conv2D)        (None, 28, 28, 512)       2359808   \n",
            "_________________________________________________________________\n",
            "block4_conv3 (Conv2D)        (None, 28, 28, 512)       2359808   \n",
            "_________________________________________________________________\n",
            "block4_pool (MaxPooling2D)   (None, 14, 14, 512)       0         \n",
            "_________________________________________________________________\n",
            "block5_conv1 (Conv2D)        (None, 14, 14, 512)       2359808   \n",
            "_________________________________________________________________\n",
            "block5_conv2 (Conv2D)        (None, 14, 14, 512)       2359808   \n",
            "_________________________________________________________________\n",
            "block5_conv3 (Conv2D)        (None, 14, 14, 512)       2359808   \n",
            "_________________________________________________________________\n",
            "block5_pool (MaxPooling2D)   (None, 7, 7, 512)         0         \n",
            "_________________________________________________________________\n",
            "flatten (Flatten)            (None, 25088)             0         \n",
            "_________________________________________________________________\n",
            "fc1 (Dense)                  (None, 4096)              102764544 \n",
            "_________________________________________________________________\n",
            "fc2 (Dense)                  (None, 4096)              16781312  \n",
            "_________________________________________________________________\n",
            "dense_8 (Dense)              (None, 10)                40970     \n",
            "=================================================================\n",
            "Total params: 134,301,514\n",
            "Trainable params: 119,586,826\n",
            "Non-trainable params: 14,714,688\n",
            "_________________________________________________________________\n"
          ],
          "name": "stdout"
        }
      ]
    },
    {
      "cell_type": "code",
      "metadata": {
        "id": "bodZ7g7XROcm"
      },
      "source": [
        "# Compile the model\n",
        "model.compile(optimizer='adam', loss='categorical_crossentropy', metrics=['accuracy'])"
      ],
      "execution_count": 13,
      "outputs": []
    },
    {
      "cell_type": "code",
      "metadata": {
        "id": "tNvDiNMARSOE",
        "outputId": "7e247dfb-7f47-4cef-d785-58efae35952f",
        "colab": {
          "base_uri": "https://localhost:8080/",
          "height": 35
        }
      },
      "source": [
        "# Load MNIST data and preprocess it for VGG16\n",
        "import keras\n",
        "import numpy as np\n",
        "from keras.applications.vgg16 import preprocess_input\n",
        "from keras.utils import to_categorical\n",
        "from keras.preprocessing.image import img_to_array, array_to_img\n",
        "import tensorflow as tf\n",
        "from scipy import ndimage\n",
        "mnist = keras.datasets.mnist\n",
        "(x_train, y_train), (x_test, y_test) = mnist.load_data()\n",
        "x_train = x_train[:1024, :, :]\n",
        "y_train = y_train[:1024] \n",
        "x_test = x_train[:256, :, :]\n",
        "y_test = y_train[:256] \n",
        "x_train=np.dstack([x_train] * 3)\n",
        "x_test=np.dstack([x_test] * 3)\n",
        "x_train = x_train.reshape(-1, 28,28,3)\n",
        "x_test= x_test.reshape (-1, 28,28,3)\n",
        "x_train = np.asarray([img_to_array(array_to_img(im, scale=False).resize((224,224))) for im in x_train])\n",
        "x_test = np.asarray([img_to_array(array_to_img(im, scale=False).resize((224,224))) for im in x_test])\n",
        "x_train = x_train.astype('float32')\n",
        "x_test = x_test.astype('float32')\n",
        "y_train = to_categorical(y_train, 10)\n",
        "y_test = to_categorical(y_test, 10)\n",
        "x_train_RGB = preprocess_input(x_train)\n",
        "x_test_RGB = preprocess_input(x_test)\n",
        "x_train_RGB.shape, x_test.shape, y_train.shape, y_test.shape\n"
      ],
      "execution_count": 14,
      "outputs": [
        {
          "output_type": "execute_result",
          "data": {
            "text/plain": [
              "((1024, 224, 224, 3), (256, 224, 224, 3), (1024, 10), (256, 10))"
            ]
          },
          "metadata": {
            "tags": []
          },
          "execution_count": 14
        }
      ]
    },
    {
      "cell_type": "code",
      "metadata": {
        "id": "4QkJgpBXRVfs",
        "outputId": "10241dc7-a301-4ffa-e2e2-96a726cec364",
        "colab": {
          "base_uri": "https://localhost:8080/",
          "height": 765
        }
      },
      "source": [
        "# Train the model\n",
        "r = model.fit(x_train_RGB, y_train, validation_data=(x_test_RGB, y_test), epochs=20)"
      ],
      "execution_count": 15,
      "outputs": [
        {
          "output_type": "stream",
          "text": [
            "Epoch 1/20\n",
            " 2/32 [>.............................] - ETA: 2s - loss: 26.1616 - accuracy: 0.1250   WARNING:tensorflow:Callbacks method `on_train_batch_end` is slow compared to the batch time (batch time: 0.0134s vs `on_train_batch_end` time: 0.1356s). Check your callbacks.\n",
            "32/32 [==============================] - ETA: 0s - loss: 10.3801 - accuracy: 0.5020WARNING:tensorflow:Callbacks method `on_test_batch_end` is slow compared to the batch time (batch time: 0.0100s vs `on_test_batch_end` time: 0.1170s). Check your callbacks.\n",
            "32/32 [==============================] - 6s 187ms/step - loss: 10.3801 - accuracy: 0.5020 - val_loss: 0.3627 - val_accuracy: 0.8828\n",
            "Epoch 2/20\n",
            "32/32 [==============================] - 6s 185ms/step - loss: 0.2950 - accuracy: 0.9189 - val_loss: 0.0598 - val_accuracy: 0.9727\n",
            "Epoch 3/20\n",
            "32/32 [==============================] - 6s 188ms/step - loss: 0.1032 - accuracy: 0.9658 - val_loss: 0.0198 - val_accuracy: 0.9961\n",
            "Epoch 4/20\n",
            "32/32 [==============================] - 6s 191ms/step - loss: 0.0738 - accuracy: 0.9814 - val_loss: 0.1042 - val_accuracy: 0.9531\n",
            "Epoch 5/20\n",
            "32/32 [==============================] - 6s 189ms/step - loss: 0.0335 - accuracy: 0.9863 - val_loss: 0.0538 - val_accuracy: 0.9922\n",
            "Epoch 6/20\n",
            "32/32 [==============================] - 6s 185ms/step - loss: 0.0797 - accuracy: 0.9844 - val_loss: 0.0433 - val_accuracy: 0.9844\n",
            "Epoch 7/20\n",
            "32/32 [==============================] - 6s 182ms/step - loss: 0.0710 - accuracy: 0.9844 - val_loss: 0.0027 - val_accuracy: 1.0000\n",
            "Epoch 8/20\n",
            "32/32 [==============================] - 6s 181ms/step - loss: 0.1515 - accuracy: 0.9775 - val_loss: 0.7465 - val_accuracy: 0.9102\n",
            "Epoch 9/20\n",
            "32/32 [==============================] - 6s 180ms/step - loss: 0.5189 - accuracy: 0.9443 - val_loss: 0.2020 - val_accuracy: 0.9844\n",
            "Epoch 10/20\n",
            "32/32 [==============================] - 6s 179ms/step - loss: 1.5621 - accuracy: 0.9492 - val_loss: 0.3772 - val_accuracy: 0.9844\n",
            "Epoch 11/20\n",
            "32/32 [==============================] - 6s 179ms/step - loss: 1.1884 - accuracy: 0.9619 - val_loss: 0.6580 - val_accuracy: 0.9844\n",
            "Epoch 12/20\n",
            "32/32 [==============================] - 6s 179ms/step - loss: 1.7950 - accuracy: 0.9648 - val_loss: 6.0536e-08 - val_accuracy: 1.0000\n",
            "Epoch 13/20\n",
            "32/32 [==============================] - 6s 180ms/step - loss: 1.2706 - accuracy: 0.9834 - val_loss: 0.4737 - val_accuracy: 0.9844\n",
            "Epoch 14/20\n",
            "32/32 [==============================] - 6s 179ms/step - loss: 0.3948 - accuracy: 0.9893 - val_loss: 0.0017 - val_accuracy: 1.0000\n",
            "Epoch 15/20\n",
            "32/32 [==============================] - 6s 181ms/step - loss: 0.1273 - accuracy: 0.9961 - val_loss: 0.0000e+00 - val_accuracy: 1.0000\n",
            "Epoch 16/20\n",
            "32/32 [==============================] - 6s 182ms/step - loss: 0.0458 - accuracy: 0.9980 - val_loss: 0.0529 - val_accuracy: 0.9961\n",
            "Epoch 17/20\n",
            "32/32 [==============================] - 6s 182ms/step - loss: 0.4275 - accuracy: 0.9912 - val_loss: 0.7494 - val_accuracy: 0.9922\n",
            "Epoch 18/20\n",
            "32/32 [==============================] - 6s 182ms/step - loss: 0.6113 - accuracy: 0.9854 - val_loss: 0.0924 - val_accuracy: 0.9961\n",
            "Epoch 19/20\n",
            "32/32 [==============================] - 6s 182ms/step - loss: 0.6570 - accuracy: 0.9854 - val_loss: 0.0610 - val_accuracy: 0.9961\n",
            "Epoch 20/20\n",
            "32/32 [==============================] - 6s 183ms/step - loss: 0.4827 - accuracy: 0.9932 - val_loss: 0.0381 - val_accuracy: 0.9961\n"
          ],
          "name": "stdout"
        }
      ]
    },
    {
      "cell_type": "code",
      "metadata": {
        "id": "u8PaqmhDRjX8",
        "outputId": "ce59ded3-5fb5-4c4f-c7d9-1a6cc6bbecef",
        "colab": {
          "base_uri": "https://localhost:8080/",
          "height": 89
        }
      },
      "source": [
        "scoreVGG = model.evaluate ( x_test_RGB , y_test )\n",
        "print ( 'Test loss : ' , scoreVGG [0] , 'Test accuracy : ' , scoreVGG [1])"
      ],
      "execution_count": 16,
      "outputs": [
        {
          "output_type": "stream",
          "text": [
            "2/8 [======>.......................] - ETA: 0s - loss: 0.0000e+00 - accuracy: 1.0000WARNING:tensorflow:Callbacks method `on_test_batch_end` is slow compared to the batch time (batch time: 0.0126s vs `on_test_batch_end` time: 0.1225s). Check your callbacks.\n",
            "8/8 [==============================] - 1s 129ms/step - loss: 0.0381 - accuracy: 0.9961\n",
            "Test loss :  0.0380910225212574 Test accuracy :  0.99609375\n"
          ],
          "name": "stdout"
        }
      ]
    },
    {
      "cell_type": "code",
      "metadata": {
        "id": "MEhVmbahSdaa",
        "outputId": "15add163-32e3-465a-b707-cbb13ec12dd4",
        "colab": {
          "base_uri": "https://localhost:8080/",
          "height": 334
        }
      },
      "source": [
        "import matplotlib.pyplot as plt\n",
        "print(r.history['accuracy'])\n",
        "print(r.epoch)\n",
        "plt.plot(r.epoch, r.history['accuracy'], 'g')\n",
        "plt.plot(r.epoch,r.history['val_accuracy'])\n",
        "plt.ylabel('accuracy')\n",
        "plt.xlabel('epoch')\n",
        "plt . legend (['train' , 'test'] , loc= 'lower right')\n",
        "plt.show()"
      ],
      "execution_count": 17,
      "outputs": [
        {
          "output_type": "stream",
          "text": [
            "[0.501953125, 0.9189453125, 0.9658203125, 0.9814453125, 0.986328125, 0.984375, 0.984375, 0.9775390625, 0.9443359375, 0.94921875, 0.9619140625, 0.96484375, 0.9833984375, 0.9892578125, 0.99609375, 0.998046875, 0.9912109375, 0.9853515625, 0.9853515625, 0.9931640625]\n",
            "[0, 1, 2, 3, 4, 5, 6, 7, 8, 9, 10, 11, 12, 13, 14, 15, 16, 17, 18, 19]\n"
          ],
          "name": "stdout"
        },
        {
          "output_type": "display_data",
          "data": {
            "image/png": "[encoded data removed]",
            "text/plain": [
              "<Figure size 432x288 with 1 Axes>"
            ]
          },
          "metadata": {
            "tags": [],
            "needs_background": "light"
          }
        }
      ]
    }
  ]
}